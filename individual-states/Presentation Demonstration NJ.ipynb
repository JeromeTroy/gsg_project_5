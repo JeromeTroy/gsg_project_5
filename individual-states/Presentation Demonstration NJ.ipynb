{
 "cells": [
  {
   "cell_type": "code",
   "execution_count": 5,
   "id": "major-needle",
   "metadata": {},
   "outputs": [],
   "source": [
    "import numpy as np\n",
    "from scipy.integrate import solve_ivp\n",
    "from scipy.optimize import least_squares\n",
    "import pandas as pd\n",
    "import matplotlib.pyplot as plt\n",
    "import seaborn as sns\n",
    "\n",
    "import sys\n",
    "sys.path.insert(1, \"../\")\n",
    "\n",
    "import SIR_utils as sir\n",
    "from get_mask_dates import *"
   ]
  },
  {
   "cell_type": "code",
   "execution_count": 6,
   "id": "inappropriate-sponsorship",
   "metadata": {},
   "outputs": [],
   "source": [
    "mandate = pd.read_csv('../stay_at_home_and_masks.csv')\n",
    "def get_date(dataframe, state):\n",
    "    state = dataframe.loc[dataframe['state'] == state]\n",
    "    date = np.array(state['mask_date'])[0].split('-')[::-1]\n",
    "    return date[0] + '-' + date[1] + '-' + date[2]\n",
    "\n",
    "#print(mandate)"
   ]
  },
  {
   "cell_type": "code",
   "execution_count": 7,
   "id": "narrow-concentration",
   "metadata": {},
   "outputs": [
    {
     "name": "stderr",
     "output_type": "stream",
     "text": [
      "<ipython-input-7-7deeb894df69>:15: DeprecationWarning: `np.bool` is a deprecated alias for the builtin `bool`. To silence this warning, use `bool` by itself. Doing this will not modify any behavior and is safe. If you specifically wanted the numpy scalar type, use `np.bool_` here.\n",
      "Deprecated in NumPy 1.20; for more details and guidance: https://numpy.org/devdocs/release/1.20.0-notes.html#deprecations\n",
      "  indices = np.array(1 - np.isnan(removed)).astype(np.bool)\n"
     ]
    }
   ],
   "source": [
    "# state = \"new-jersey\"\n",
    "# state_abbr = \"NJ\"\n",
    "state = \"florida\"\n",
    "state_abbr = \"FL\"\n",
    "# state = \"georgia\"\n",
    "# state_abbr = \"GA\"\n",
    "# state = \"new-york\"\n",
    "# state_abbr = \"NY\"\n",
    "\n",
    "time_dataframe = pd.read_csv(\"../{}-history.csv\".format(state))\n",
    "#print(time_dataframe)\n",
    "\n",
    "dates = time_dataframe[\"date\"][::-1]\n",
    "removed = time_dataframe[\"positiveCasesViral\"][::-1]\n",
    "indices = np.array(1 - np.isnan(removed)).astype(np.bool)\n",
    "\n",
    "dates = np.array(dates)[indices]\n",
    "rem = np.array(removed[indices])\n",
    "\n",
    "#print(dates)\n",
    "#print(rem)"
   ]
  },
  {
   "cell_type": "code",
   "execution_count": null,
   "id": "537bff40",
   "metadata": {},
   "outputs": [],
   "source": []
  },
  {
   "cell_type": "code",
   "execution_count": 8,
   "id": "gentle-bunny",
   "metadata": {},
   "outputs": [
    {
     "name": "stdout",
     "output_type": "stream",
     "text": [
      "192\n"
     ]
    }
   ],
   "source": [
    "window = 14\n",
    "infectious, infectious_rate = sir.compute_number_infectious(rem, window)\n",
    "\n",
    "rem = rem[:len(infectious)]\n",
    "\n",
    "population = np.array(mandate[mandate['state'] == state_abbr]['Population']) \n",
    "sus = population - infectious - rem\n",
    "#print(sus)"
   ]
  },
  {
   "cell_type": "code",
   "execution_count": 9,
   "id": "d2e431d4",
   "metadata": {},
   "outputs": [
    {
     "ename": "FileNotFoundError",
     "evalue": "[Errno 2] No such file or directory: 'stay_at_home_and_masks.csv'",
     "output_type": "error",
     "traceback": [
      "\u001b[0;31m---------------------------------------------------------------------------\u001b[0m",
      "\u001b[0;31mFileNotFoundError\u001b[0m                         Traceback (most recent call last)",
      "\u001b[0;32m<ipython-input-9-2df8dea655fb>\u001b[0m in \u001b[0;36m<module>\u001b[0;34m\u001b[0m\n\u001b[0;32m----> 1\u001b[0;31m row = mask_date_to_all_states(state_abbr, \"all-states-history.csv\", 'stay_at_home_and_masks.csv', \n\u001b[0m\u001b[1;32m      2\u001b[0m                              item=\"stay_at_home_start\")\n\u001b[1;32m      3\u001b[0m \u001b[0mbools\u001b[0m \u001b[0;34m=\u001b[0m \u001b[0mtime_dataframe\u001b[0m\u001b[0;34m[\u001b[0m\u001b[0;34m\"date\"\u001b[0m\u001b[0;34m]\u001b[0m \u001b[0;34m==\u001b[0m \u001b[0mnp\u001b[0m\u001b[0;34m.\u001b[0m\u001b[0marray\u001b[0m\u001b[0;34m(\u001b[0m\u001b[0mrow\u001b[0m\u001b[0;34m[\u001b[0m\u001b[0;34m\"date\"\u001b[0m\u001b[0;34m]\u001b[0m\u001b[0;34m)\u001b[0m\u001b[0;34m[\u001b[0m\u001b[0;36m0\u001b[0m\u001b[0;34m]\u001b[0m\u001b[0;34m\u001b[0m\u001b[0;34m\u001b[0m\u001b[0m\n\u001b[1;32m      4\u001b[0m \u001b[0mindex_home\u001b[0m \u001b[0;34m=\u001b[0m \u001b[0mlen\u001b[0m\u001b[0;34m(\u001b[0m\u001b[0mbools\u001b[0m\u001b[0;34m)\u001b[0m \u001b[0;34m-\u001b[0m \u001b[0mnp\u001b[0m\u001b[0;34m.\u001b[0m\u001b[0marange\u001b[0m\u001b[0;34m(\u001b[0m\u001b[0mlen\u001b[0m\u001b[0;34m(\u001b[0m\u001b[0mbools\u001b[0m\u001b[0;34m)\u001b[0m\u001b[0;34m)\u001b[0m\u001b[0;34m[\u001b[0m\u001b[0mbools\u001b[0m\u001b[0;34m]\u001b[0m\u001b[0;34m\u001b[0m\u001b[0;34m\u001b[0m\u001b[0m\n\u001b[1;32m      5\u001b[0m \u001b[0;34m\u001b[0m\u001b[0m\n",
      "\u001b[0;32m~/Documents/gsg/gsg_project_5/individual-states/get_mask_dates.py\u001b[0m in \u001b[0;36mmask_date_to_all_states\u001b[0;34m(state, all_states_file, stay_at_home_file, item)\u001b[0m\n\u001b[1;32m     19\u001b[0m     \u001b[0;31m# all inputs are strings\u001b[0m\u001b[0;34m\u001b[0m\u001b[0;34m\u001b[0m\u001b[0;34m\u001b[0m\u001b[0m\n\u001b[1;32m     20\u001b[0m     \u001b[0;31m# files must be paths\u001b[0m\u001b[0;34m\u001b[0m\u001b[0;34m\u001b[0m\u001b[0;34m\u001b[0m\u001b[0m\n\u001b[0;32m---> 21\u001b[0;31m     \u001b[0mstay_at_home_df\u001b[0m \u001b[0;34m=\u001b[0m \u001b[0mpd\u001b[0m\u001b[0;34m.\u001b[0m\u001b[0mread_csv\u001b[0m\u001b[0;34m(\u001b[0m\u001b[0mstay_at_home_file\u001b[0m\u001b[0;34m)\u001b[0m\u001b[0;34m\u001b[0m\u001b[0;34m\u001b[0m\u001b[0m\n\u001b[0m\u001b[1;32m     22\u001b[0m     \u001b[0mst\u001b[0m \u001b[0;34m=\u001b[0m \u001b[0mstateData\u001b[0m\u001b[0;34m(\u001b[0m\u001b[0mpd\u001b[0m\u001b[0;34m.\u001b[0m\u001b[0mread_csv\u001b[0m\u001b[0;34m(\u001b[0m\u001b[0mall_states_file\u001b[0m\u001b[0;34m)\u001b[0m\u001b[0;34m,\u001b[0m \u001b[0mstate\u001b[0m\u001b[0;34m)\u001b[0m\u001b[0;34m\u001b[0m\u001b[0;34m\u001b[0m\u001b[0m\n\u001b[1;32m     23\u001b[0m     \u001b[0;32mreturn\u001b[0m \u001b[0mst\u001b[0m\u001b[0;34m.\u001b[0m\u001b[0mloc\u001b[0m\u001b[0;34m[\u001b[0m\u001b[0mst\u001b[0m\u001b[0;34m[\u001b[0m\u001b[0;34m'date'\u001b[0m\u001b[0;34m]\u001b[0m \u001b[0;34m==\u001b[0m \u001b[0mget_date\u001b[0m\u001b[0;34m(\u001b[0m\u001b[0mstay_at_home_df\u001b[0m\u001b[0;34m,\u001b[0m \u001b[0mstate\u001b[0m\u001b[0;34m,\u001b[0m \u001b[0mitem\u001b[0m\u001b[0;34m=\u001b[0m\u001b[0mitem\u001b[0m\u001b[0;34m)\u001b[0m\u001b[0;34m]\u001b[0m\u001b[0;34m\u001b[0m\u001b[0;34m\u001b[0m\u001b[0m\n",
      "\u001b[0;32m~/anaconda3/envs/py38/lib/python3.8/site-packages/pandas/io/parsers.py\u001b[0m in \u001b[0;36mread_csv\u001b[0;34m(filepath_or_buffer, sep, delimiter, header, names, index_col, usecols, squeeze, prefix, mangle_dupe_cols, dtype, engine, converters, true_values, false_values, skipinitialspace, skiprows, skipfooter, nrows, na_values, keep_default_na, na_filter, verbose, skip_blank_lines, parse_dates, infer_datetime_format, keep_date_col, date_parser, dayfirst, cache_dates, iterator, chunksize, compression, thousands, decimal, lineterminator, quotechar, quoting, doublequote, escapechar, comment, encoding, dialect, error_bad_lines, warn_bad_lines, delim_whitespace, low_memory, memory_map, float_precision, storage_options)\u001b[0m\n\u001b[1;32m    608\u001b[0m     \u001b[0mkwds\u001b[0m\u001b[0;34m.\u001b[0m\u001b[0mupdate\u001b[0m\u001b[0;34m(\u001b[0m\u001b[0mkwds_defaults\u001b[0m\u001b[0;34m)\u001b[0m\u001b[0;34m\u001b[0m\u001b[0;34m\u001b[0m\u001b[0m\n\u001b[1;32m    609\u001b[0m \u001b[0;34m\u001b[0m\u001b[0m\n\u001b[0;32m--> 610\u001b[0;31m     \u001b[0;32mreturn\u001b[0m \u001b[0m_read\u001b[0m\u001b[0;34m(\u001b[0m\u001b[0mfilepath_or_buffer\u001b[0m\u001b[0;34m,\u001b[0m \u001b[0mkwds\u001b[0m\u001b[0;34m)\u001b[0m\u001b[0;34m\u001b[0m\u001b[0;34m\u001b[0m\u001b[0m\n\u001b[0m\u001b[1;32m    611\u001b[0m \u001b[0;34m\u001b[0m\u001b[0m\n\u001b[1;32m    612\u001b[0m \u001b[0;34m\u001b[0m\u001b[0m\n",
      "\u001b[0;32m~/anaconda3/envs/py38/lib/python3.8/site-packages/pandas/io/parsers.py\u001b[0m in \u001b[0;36m_read\u001b[0;34m(filepath_or_buffer, kwds)\u001b[0m\n\u001b[1;32m    460\u001b[0m \u001b[0;34m\u001b[0m\u001b[0m\n\u001b[1;32m    461\u001b[0m     \u001b[0;31m# Create the parser.\u001b[0m\u001b[0;34m\u001b[0m\u001b[0;34m\u001b[0m\u001b[0;34m\u001b[0m\u001b[0m\n\u001b[0;32m--> 462\u001b[0;31m     \u001b[0mparser\u001b[0m \u001b[0;34m=\u001b[0m \u001b[0mTextFileReader\u001b[0m\u001b[0;34m(\u001b[0m\u001b[0mfilepath_or_buffer\u001b[0m\u001b[0;34m,\u001b[0m \u001b[0;34m**\u001b[0m\u001b[0mkwds\u001b[0m\u001b[0;34m)\u001b[0m\u001b[0;34m\u001b[0m\u001b[0;34m\u001b[0m\u001b[0m\n\u001b[0m\u001b[1;32m    463\u001b[0m \u001b[0;34m\u001b[0m\u001b[0m\n\u001b[1;32m    464\u001b[0m     \u001b[0;32mif\u001b[0m \u001b[0mchunksize\u001b[0m \u001b[0;32mor\u001b[0m \u001b[0miterator\u001b[0m\u001b[0;34m:\u001b[0m\u001b[0;34m\u001b[0m\u001b[0;34m\u001b[0m\u001b[0m\n",
      "\u001b[0;32m~/anaconda3/envs/py38/lib/python3.8/site-packages/pandas/io/parsers.py\u001b[0m in \u001b[0;36m__init__\u001b[0;34m(self, f, engine, **kwds)\u001b[0m\n\u001b[1;32m    817\u001b[0m             \u001b[0mself\u001b[0m\u001b[0;34m.\u001b[0m\u001b[0moptions\u001b[0m\u001b[0;34m[\u001b[0m\u001b[0;34m\"has_index_names\"\u001b[0m\u001b[0;34m]\u001b[0m \u001b[0;34m=\u001b[0m \u001b[0mkwds\u001b[0m\u001b[0;34m[\u001b[0m\u001b[0;34m\"has_index_names\"\u001b[0m\u001b[0;34m]\u001b[0m\u001b[0;34m\u001b[0m\u001b[0;34m\u001b[0m\u001b[0m\n\u001b[1;32m    818\u001b[0m \u001b[0;34m\u001b[0m\u001b[0m\n\u001b[0;32m--> 819\u001b[0;31m         \u001b[0mself\u001b[0m\u001b[0;34m.\u001b[0m\u001b[0m_engine\u001b[0m \u001b[0;34m=\u001b[0m \u001b[0mself\u001b[0m\u001b[0;34m.\u001b[0m\u001b[0m_make_engine\u001b[0m\u001b[0;34m(\u001b[0m\u001b[0mself\u001b[0m\u001b[0;34m.\u001b[0m\u001b[0mengine\u001b[0m\u001b[0;34m)\u001b[0m\u001b[0;34m\u001b[0m\u001b[0;34m\u001b[0m\u001b[0m\n\u001b[0m\u001b[1;32m    820\u001b[0m \u001b[0;34m\u001b[0m\u001b[0m\n\u001b[1;32m    821\u001b[0m     \u001b[0;32mdef\u001b[0m \u001b[0mclose\u001b[0m\u001b[0;34m(\u001b[0m\u001b[0mself\u001b[0m\u001b[0;34m)\u001b[0m\u001b[0;34m:\u001b[0m\u001b[0;34m\u001b[0m\u001b[0;34m\u001b[0m\u001b[0m\n",
      "\u001b[0;32m~/anaconda3/envs/py38/lib/python3.8/site-packages/pandas/io/parsers.py\u001b[0m in \u001b[0;36m_make_engine\u001b[0;34m(self, engine)\u001b[0m\n\u001b[1;32m   1048\u001b[0m             )\n\u001b[1;32m   1049\u001b[0m         \u001b[0;31m# error: Too many arguments for \"ParserBase\"\u001b[0m\u001b[0;34m\u001b[0m\u001b[0;34m\u001b[0m\u001b[0;34m\u001b[0m\u001b[0m\n\u001b[0;32m-> 1050\u001b[0;31m         \u001b[0;32mreturn\u001b[0m \u001b[0mmapping\u001b[0m\u001b[0;34m[\u001b[0m\u001b[0mengine\u001b[0m\u001b[0;34m]\u001b[0m\u001b[0;34m(\u001b[0m\u001b[0mself\u001b[0m\u001b[0;34m.\u001b[0m\u001b[0mf\u001b[0m\u001b[0;34m,\u001b[0m \u001b[0;34m**\u001b[0m\u001b[0mself\u001b[0m\u001b[0;34m.\u001b[0m\u001b[0moptions\u001b[0m\u001b[0;34m)\u001b[0m  \u001b[0;31m# type: ignore[call-arg]\u001b[0m\u001b[0;34m\u001b[0m\u001b[0;34m\u001b[0m\u001b[0m\n\u001b[0m\u001b[1;32m   1051\u001b[0m \u001b[0;34m\u001b[0m\u001b[0m\n\u001b[1;32m   1052\u001b[0m     \u001b[0;32mdef\u001b[0m \u001b[0m_failover_to_python\u001b[0m\u001b[0;34m(\u001b[0m\u001b[0mself\u001b[0m\u001b[0;34m)\u001b[0m\u001b[0;34m:\u001b[0m\u001b[0;34m\u001b[0m\u001b[0;34m\u001b[0m\u001b[0m\n",
      "\u001b[0;32m~/anaconda3/envs/py38/lib/python3.8/site-packages/pandas/io/parsers.py\u001b[0m in \u001b[0;36m__init__\u001b[0;34m(self, src, **kwds)\u001b[0m\n\u001b[1;32m   1865\u001b[0m \u001b[0;34m\u001b[0m\u001b[0m\n\u001b[1;32m   1866\u001b[0m         \u001b[0;31m# open handles\u001b[0m\u001b[0;34m\u001b[0m\u001b[0;34m\u001b[0m\u001b[0;34m\u001b[0m\u001b[0m\n\u001b[0;32m-> 1867\u001b[0;31m         \u001b[0mself\u001b[0m\u001b[0;34m.\u001b[0m\u001b[0m_open_handles\u001b[0m\u001b[0;34m(\u001b[0m\u001b[0msrc\u001b[0m\u001b[0;34m,\u001b[0m \u001b[0mkwds\u001b[0m\u001b[0;34m)\u001b[0m\u001b[0;34m\u001b[0m\u001b[0;34m\u001b[0m\u001b[0m\n\u001b[0m\u001b[1;32m   1868\u001b[0m         \u001b[0;32massert\u001b[0m \u001b[0mself\u001b[0m\u001b[0;34m.\u001b[0m\u001b[0mhandles\u001b[0m \u001b[0;32mis\u001b[0m \u001b[0;32mnot\u001b[0m \u001b[0;32mNone\u001b[0m\u001b[0;34m\u001b[0m\u001b[0;34m\u001b[0m\u001b[0m\n\u001b[1;32m   1869\u001b[0m         \u001b[0;32mfor\u001b[0m \u001b[0mkey\u001b[0m \u001b[0;32min\u001b[0m \u001b[0;34m(\u001b[0m\u001b[0;34m\"storage_options\"\u001b[0m\u001b[0;34m,\u001b[0m \u001b[0;34m\"encoding\"\u001b[0m\u001b[0;34m,\u001b[0m \u001b[0;34m\"memory_map\"\u001b[0m\u001b[0;34m,\u001b[0m \u001b[0;34m\"compression\"\u001b[0m\u001b[0;34m)\u001b[0m\u001b[0;34m:\u001b[0m\u001b[0;34m\u001b[0m\u001b[0;34m\u001b[0m\u001b[0m\n",
      "\u001b[0;32m~/anaconda3/envs/py38/lib/python3.8/site-packages/pandas/io/parsers.py\u001b[0m in \u001b[0;36m_open_handles\u001b[0;34m(self, src, kwds)\u001b[0m\n\u001b[1;32m   1360\u001b[0m         \u001b[0mLet\u001b[0m \u001b[0mthe\u001b[0m \u001b[0mreaders\u001b[0m \u001b[0mopen\u001b[0m \u001b[0mIOHanldes\u001b[0m \u001b[0mafter\u001b[0m \u001b[0mthey\u001b[0m \u001b[0mare\u001b[0m \u001b[0mdone\u001b[0m \u001b[0;32mwith\u001b[0m \u001b[0mtheir\u001b[0m \u001b[0mpotential\u001b[0m \u001b[0mraises\u001b[0m\u001b[0;34m.\u001b[0m\u001b[0;34m\u001b[0m\u001b[0;34m\u001b[0m\u001b[0m\n\u001b[1;32m   1361\u001b[0m         \"\"\"\n\u001b[0;32m-> 1362\u001b[0;31m         self.handles = get_handle(\n\u001b[0m\u001b[1;32m   1363\u001b[0m             \u001b[0msrc\u001b[0m\u001b[0;34m,\u001b[0m\u001b[0;34m\u001b[0m\u001b[0;34m\u001b[0m\u001b[0m\n\u001b[1;32m   1364\u001b[0m             \u001b[0;34m\"r\"\u001b[0m\u001b[0;34m,\u001b[0m\u001b[0;34m\u001b[0m\u001b[0;34m\u001b[0m\u001b[0m\n",
      "\u001b[0;32m~/anaconda3/envs/py38/lib/python3.8/site-packages/pandas/io/common.py\u001b[0m in \u001b[0;36mget_handle\u001b[0;34m(path_or_buf, mode, encoding, compression, memory_map, is_text, errors, storage_options)\u001b[0m\n\u001b[1;32m    640\u001b[0m                 \u001b[0merrors\u001b[0m \u001b[0;34m=\u001b[0m \u001b[0;34m\"replace\"\u001b[0m\u001b[0;34m\u001b[0m\u001b[0;34m\u001b[0m\u001b[0m\n\u001b[1;32m    641\u001b[0m             \u001b[0;31m# Encoding\u001b[0m\u001b[0;34m\u001b[0m\u001b[0;34m\u001b[0m\u001b[0;34m\u001b[0m\u001b[0m\n\u001b[0;32m--> 642\u001b[0;31m             handle = open(\n\u001b[0m\u001b[1;32m    643\u001b[0m                 \u001b[0mhandle\u001b[0m\u001b[0;34m,\u001b[0m\u001b[0;34m\u001b[0m\u001b[0;34m\u001b[0m\u001b[0m\n\u001b[1;32m    644\u001b[0m                 \u001b[0mioargs\u001b[0m\u001b[0;34m.\u001b[0m\u001b[0mmode\u001b[0m\u001b[0;34m,\u001b[0m\u001b[0;34m\u001b[0m\u001b[0;34m\u001b[0m\u001b[0m\n",
      "\u001b[0;31mFileNotFoundError\u001b[0m: [Errno 2] No such file or directory: 'stay_at_home_and_masks.csv'"
     ]
    }
   ],
   "source": [
    ".row = mask_date_to_all_states(state_abbr, \"all-states-history.csv\", 'stay_at_home_and_masks.csv', \n",
    "                             item=\"stay_at_home_start\")\n",
    "bools = time_dataframe[\"date\"] == np.array(row[\"date\"])[0]\n",
    "index_home = len(bools) - np.arange(len(bools))[bools]\n",
    "\n",
    "try:\n",
    "    row = mask_date_to_all_states(state_abbr, \"all-states-history.csv\", 'stay_at_home_and_masks.csv', \n",
    "                                 item=\"stay_at_home_end\")\n",
    "    bools = time_dataframe[\"date\"] == np.array(row[\"date\"])[0]\n",
    "    index_out = len(bools) - np.arange(len(bools))[bools]\n",
    "except:\n",
    "    print(\"no stay at home end\")\n",
    "\n",
    "try:\n",
    "    row = mask_date_to_all_states(state_abbr, \"all-states-history.csv\", 'stay_at_home_and_masks.csv', )\n",
    "    bools = time_dataframe[\"date\"] == np.array(row[\"date\"])[0]\n",
    "    index_mask = len(bools) - np.arange(len(bools))[bools]\n",
    "except:\n",
    "    index_mask = None"
   ]
  },
  {
   "cell_type": "code",
   "execution_count": null,
   "id": "c381ce1b",
   "metadata": {},
   "outputs": [],
   "source": [
    "plt.figure(figsize=(8, 6))\n",
    "plt.plot(times, infectious, \"*\")\n",
    "plt.vlines(index_home[0], 0, np.max(infectious), \"g\", label=\"stay at home order\")\n",
    "try:\n",
    "    plt.vlines(index_mask[0], 0, np.max(infectious), \"r\", label=\"mask mandate\")\n",
    "except:\n",
    "    print(\"no mask mandate\")\n",
    "\n",
    "try:\n",
    "    plt.vlines(index_out[0], 0, np.max(infectious), \"y\", label=\"stay at home ends\")\n",
    "except:\n",
    "    print(\"no out time\")\n",
    "plt.xlabel(\"time\")\n",
    "plt.ylabel(\"infectious\")\n",
    "plt.legend()\n",
    "plt.show()\n",
    "\n",
    "plt.figure(figsize=(8, 6))\n",
    "plt.scatter(infectious, infectious_rate, c=times)\n",
    "plt.plot(infectious[index_home[0]], infectious_rate[index_home[0]], \"r^\",  \n",
    "           markersize=20)\n",
    "plt.plot(infectious[index_out[0]], infectious_rate[index_out[0]], \"r^\",  \n",
    "           markersize=20)\n",
    "plt.ylabel(\"di/dt\")\n",
    "plt.ylabel(\"di/dt\")\n",
    "plt.xlabel(\"infectious\")\n",
    "plt.show()\n",
    "\n"
   ]
  },
  {
   "cell_type": "code",
   "execution_count": null,
   "id": "native-small",
   "metadata": {},
   "outputs": [],
   "source": [
    "times = np.arange(len(rem))\n",
    "sus_fit = sus / population\n",
    "inf_fit = infectious / population\n",
    "rem_fit = rem / population\n",
    "sir_fitting = sir.moving_averages_fits(times, sus_fit, inf_fit, rem_fit, window=window, \n",
    "                                     opt_options={\"method\":\"trust-constr\", \n",
    "                                                                           \"bounds\": \n",
    "                                                                            [(1e-10, 100), (0, np.inf)]})"
   ]
  },
  {
   "cell_type": "code",
   "execution_count": null,
   "id": "finnish-rainbow",
   "metadata": {},
   "outputs": [],
   "source": [
    "print(sir_fitting)"
   ]
  },
  {
   "cell_type": "code",
   "execution_count": null,
   "id": "prepared-playlist",
   "metadata": {},
   "outputs": [],
   "source": [
    "plt.figure(figsize=(10, 10))\n",
    "for j in range(int(len(times) / window)):\n",
    "    start = j * window\n",
    "    stop = start + window\n",
    "    plt.plot(times[start:stop], rem_fit[start:stop], \"b*\")\n",
    "    sol = solve_ivp(sir.sir_ode, [times[start], times[stop]], \n",
    "                   [sus_fit[start], inf_fit[start], rem_fit[start]], \n",
    "                   args=sir_fitting[j, :], method=\"LSODA\", max_step=0.25)\n",
    "    plt.plot(sol.t, sol.y[2, :], \"k--\")\n",
    "    \n",
    "plt.xlabel(\"time\")\n",
    "plt.ylabel(\"removed\")\n",
    "plt.show()"
   ]
  },
  {
   "cell_type": "code",
   "execution_count": null,
   "id": "123bd524",
   "metadata": {},
   "outputs": [],
   "source": [
    "row = mask_date_to_all_states(state_abbr, \"all-states-history.csv\", 'stay_at_home_and_masks.csv', \n",
    "                             item=\"stay_at_home_start\")\n",
    "bools = time_dataframe[\"date\"] == np.array(row[\"date\"])[0]\n",
    "index_home = len(bools) - np.arange(len(bools))[bools]\n",
    "\n",
    "try:\n",
    "    row = mask_date_to_all_states(state_abbr, \"all-states-history.csv\", 'stay_at_home_and_masks.csv', \n",
    "                                 item=\"stay_at_home_end\")\n",
    "    bools = time_dataframe[\"date\"] == np.array(row[\"date\"])[0]\n",
    "    index_out = len(bools) - np.arange(len(bools))[bools]\n",
    "except:\n",
    "    print(\"no stay at home end\")\n",
    "\n",
    "try:\n",
    "    row = mask_date_to_all_states(state_abbr, \"all-states-history.csv\", 'stay_at_home_and_masks.csv', )\n",
    "    bools = time_dataframe[\"date\"] == np.array(row[\"date\"])[0]\n",
    "    index_mask = len(bools) - np.arange(len(bools))[bools]\n",
    "except:\n",
    "    index_mask = None"
   ]
  },
  {
   "cell_type": "code",
   "execution_count": null,
   "id": "rapid-romania",
   "metadata": {},
   "outputs": [],
   "source": [
    "sir_fitting_plot = np.zeros([len(times), 2])\n",
    "for j in range(int(len(times) / window)):\n",
    "    sir_fitting_plot[j * window: j * window + window, :] = sir_fitting[j, :]\n",
    "    \n",
    "plt.figure(figsize=(8,6))\n",
    "plt.plot(times, sir_fitting_plot[:, 0])\n",
    "plt.vlines(index_home[0], 0, np.max(sir_fitting[:, 0]), \"g\", label=\"stay at home order\")\n",
    "try:\n",
    "    plt.vlines(index_mask[0], 0, np.max(sir_fitting[:, 0]), \"r\", label=\"mask mandate\")\n",
    "except:\n",
    "    print(\"no mask mandate\")\n",
    "\n",
    "try:\n",
    "    plt.vlines(index_out[0], 0, np.max(sir_fitting[:, 0]), \"y\", label=\"stay at home ends\")\n",
    "except:\n",
    "    print(\"no out time\")\n",
    "plt.xlabel(\"time\")\n",
    "plt.ylabel(\"viralence\")\n",
    "plt.legend()\n",
    "plt.show()\n",
    "\n",
    "plt.figure(figsize=(8,6))\n",
    "plt.plot(times, sir_fitting_plot[:, 1])\n",
    "plt.vlines(index_home[0], 0, np.max(sir_fitting[:, 1]), \"g\", label=\"stay at home order\")\n",
    "try:\n",
    "    plt.vlines(index_mask[0], 0, np.max(sir_fitting[:, 1]), \"r\", label=\"mask mandate\")\n",
    "except:\n",
    "    print(\"no mask mandate\")\n",
    "\n",
    "try:\n",
    "    plt.vlines(index_out[0], 0, np.max(sir_fitting[:, 1]), \"y\", label=\"stay at home ends\")\n",
    "except:\n",
    "    print(\"no out time\")\n",
    "plt.xlabel(\"time\")\n",
    "plt.ylabel(\"removal rate\")\n",
    "plt.legend()\n",
    "plt.show()"
   ]
  },
  {
   "cell_type": "code",
   "execution_count": null,
   "id": "2e9d4e0a",
   "metadata": {},
   "outputs": [],
   "source": []
  }
 ],
 "metadata": {
  "kernelspec": {
   "display_name": "Python 3",
   "language": "python",
   "name": "python3"
  },
  "language_info": {
   "codemirror_mode": {
    "name": "ipython",
    "version": 3
   },
   "file_extension": ".py",
   "mimetype": "text/x-python",
   "name": "python",
   "nbconvert_exporter": "python",
   "pygments_lexer": "ipython3",
   "version": "3.8.8"
  }
 },
 "nbformat": 4,
 "nbformat_minor": 5
}
