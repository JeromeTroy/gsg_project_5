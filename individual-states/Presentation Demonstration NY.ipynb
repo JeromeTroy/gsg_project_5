{
 "cells": [
  {
   "cell_type": "code",
   "execution_count": 18,
   "metadata": {},
   "outputs": [],
   "source": [
    "import numpy as np\n",
    "from scipy.integrate import solve_ivp\n",
    "from scipy.optimize import least_squares\n",
    "import pandas as pd\n",
    "import matplotlib.pyplot as plt\n",
    "import seaborn as sns\n",
    "\n",
    "import sys\n",
    "sys.path.insert(1, \"../\")\n",
    "\n",
    "import SIR_utils as sir\n",
    "from get_mask_dates import *"
   ]
  },
  {
   "cell_type": "code",
   "execution_count": 19,
   "metadata": {},
   "outputs": [],
   "source": [
    "mandate = pd.read_csv('../stay_at_home_and_masks.csv')\n",
    "def get_date(dataframe, state):\n",
    "    state = dataframe.loc[dataframe['state'] == state]\n",
    "    date = np.array(state['mask_date'])[0].split('-')[::-1]\n",
    "    return date[0] + '-' + date[1] + '-' + date[2]\n",
    "\n",
    "#print(mandate)"
   ]
  },
  {
   "cell_type": "code",
   "execution_count": 20,
   "metadata": {},
   "outputs": [],
   "source": [
    "# state = \"new-jersey\"\n",
    "# state_abbr = \"NJ\"\n",
    "# state = \"florida\"\n",
    "# state_abbr = \"FL\"\n",
    "# state = \"georgia\"\n",
    "# state_abbr = \"GA\"\n",
    "state = \"new-york\"\n",
    "state_abbr = \"NY\"\n",
    "\n",
    "time_dataframe = pd.read_csv(\"../{}-history.csv\".format(state))\n",
    "#print(time_dataframe)\n",
    "\n",
    "dates = time_dataframe[\"date\"][::-1]\n",
    "removed = time_dataframe[\"positiveCasesViral\"][::-1]\n",
    "indices = np.array(1 - np.isnan(removed)).astype(np.bool)\n",
    "\n",
    "dates = np.array(dates)[indices]\n",
    "rem = np.array(removed[indices])\n",
    "\n",
    "#print(dates)\n",
    "#print(rem)"
   ]
  },
  {
   "cell_type": "code",
   "execution_count": null,
   "metadata": {},
   "outputs": [],
   "source": []
  },
  {
   "cell_type": "code",
   "execution_count": 21,
   "metadata": {},
   "outputs": [
    {
     "ename": "ValueError",
     "evalue": "v cannot be empty",
     "output_type": "error",
     "traceback": [
      "\u001b[1;31m---------------------------------------------------------------------------\u001b[0m",
      "\u001b[1;31mValueError\u001b[0m                                Traceback (most recent call last)",
      "\u001b[1;32m<ipython-input-21-db8f8a90b0d7>\u001b[0m in \u001b[0;36m<module>\u001b[1;34m\u001b[0m\n\u001b[0;32m      1\u001b[0m \u001b[0mwindow\u001b[0m \u001b[1;33m=\u001b[0m \u001b[1;36m14\u001b[0m\u001b[1;33m\u001b[0m\u001b[1;33m\u001b[0m\u001b[0m\n\u001b[1;32m----> 2\u001b[1;33m \u001b[0minfectious\u001b[0m\u001b[1;33m,\u001b[0m \u001b[0minfectious_rate\u001b[0m \u001b[1;33m=\u001b[0m \u001b[0msir\u001b[0m\u001b[1;33m.\u001b[0m\u001b[0mcompute_number_infectious\u001b[0m\u001b[1;33m(\u001b[0m\u001b[0mrem\u001b[0m\u001b[1;33m,\u001b[0m \u001b[0mwindow\u001b[0m\u001b[1;33m)\u001b[0m\u001b[1;33m\u001b[0m\u001b[1;33m\u001b[0m\u001b[0m\n\u001b[0m\u001b[0;32m      3\u001b[0m \u001b[1;33m\u001b[0m\u001b[0m\n\u001b[0;32m      4\u001b[0m \u001b[0mrem\u001b[0m \u001b[1;33m=\u001b[0m \u001b[0mrem\u001b[0m\u001b[1;33m[\u001b[0m\u001b[1;33m:\u001b[0m\u001b[0mlen\u001b[0m\u001b[1;33m(\u001b[0m\u001b[0minfectious\u001b[0m\u001b[1;33m)\u001b[0m\u001b[1;33m]\u001b[0m\u001b[1;33m\u001b[0m\u001b[1;33m\u001b[0m\u001b[0m\n\u001b[0;32m      5\u001b[0m \u001b[1;33m\u001b[0m\u001b[0m\n",
      "\u001b[1;32m~\\Documents\\GitHub\\gsg_project_5\\individual-states\\SIR_utils.py\u001b[0m in \u001b[0;36mcompute_number_infectious\u001b[1;34m(current_infected, averaging_range)\u001b[0m\n\u001b[0;32m     81\u001b[0m     \u001b[1;31m# build number of infected individuals\u001b[0m\u001b[1;33m\u001b[0m\u001b[1;33m\u001b[0m\u001b[1;33m\u001b[0m\u001b[0m\n\u001b[0;32m     82\u001b[0m     \u001b[0minfected\u001b[0m \u001b[1;33m=\u001b[0m \u001b[0mcurrent_infected\u001b[0m\u001b[1;33m[\u001b[0m\u001b[1;36m1\u001b[0m\u001b[1;33m:\u001b[0m\u001b[1;33m]\u001b[0m \u001b[1;33m-\u001b[0m \u001b[0mcurrent_infected\u001b[0m\u001b[1;33m[\u001b[0m\u001b[1;33m:\u001b[0m\u001b[1;33m-\u001b[0m\u001b[1;36m1\u001b[0m\u001b[1;33m]\u001b[0m\u001b[1;33m\u001b[0m\u001b[1;33m\u001b[0m\u001b[0m\n\u001b[1;32m---> 83\u001b[1;33m     \u001b[0minfected_avg\u001b[0m \u001b[1;33m=\u001b[0m \u001b[0mnp\u001b[0m\u001b[1;33m.\u001b[0m\u001b[0mconvolve\u001b[0m\u001b[1;33m(\u001b[0m\u001b[0maverager\u001b[0m\u001b[1;33m,\u001b[0m \u001b[0minfected\u001b[0m\u001b[1;33m,\u001b[0m \u001b[0mmode\u001b[0m\u001b[1;33m=\u001b[0m\u001b[1;34m\"same\"\u001b[0m\u001b[1;33m)\u001b[0m\u001b[1;33m\u001b[0m\u001b[1;33m\u001b[0m\u001b[0m\n\u001b[0m\u001b[0;32m     84\u001b[0m     \u001b[0minfected_avg_good\u001b[0m \u001b[1;33m=\u001b[0m \u001b[0mnp\u001b[0m\u001b[1;33m.\u001b[0m\u001b[0mconvolve\u001b[0m\u001b[1;33m(\u001b[0m\u001b[0maverager\u001b[0m\u001b[1;33m,\u001b[0m \u001b[0minfected\u001b[0m\u001b[1;33m,\u001b[0m \u001b[0mmode\u001b[0m\u001b[1;33m=\u001b[0m\u001b[1;34m\"valid\"\u001b[0m\u001b[1;33m)\u001b[0m\u001b[1;33m\u001b[0m\u001b[1;33m\u001b[0m\u001b[0m\n\u001b[0;32m     85\u001b[0m \u001b[1;33m\u001b[0m\u001b[0m\n",
      "\u001b[1;32m<__array_function__ internals>\u001b[0m in \u001b[0;36mconvolve\u001b[1;34m(*args, **kwargs)\u001b[0m\n",
      "\u001b[1;32m~\\anaconda3\\lib\\site-packages\\numpy\\core\\numeric.py\u001b[0m in \u001b[0;36mconvolve\u001b[1;34m(a, v, mode)\u001b[0m\n\u001b[0;32m    813\u001b[0m         \u001b[1;32mraise\u001b[0m \u001b[0mValueError\u001b[0m\u001b[1;33m(\u001b[0m\u001b[1;34m'a cannot be empty'\u001b[0m\u001b[1;33m)\u001b[0m\u001b[1;33m\u001b[0m\u001b[1;33m\u001b[0m\u001b[0m\n\u001b[0;32m    814\u001b[0m     \u001b[1;32mif\u001b[0m \u001b[0mlen\u001b[0m\u001b[1;33m(\u001b[0m\u001b[0mv\u001b[0m\u001b[1;33m)\u001b[0m \u001b[1;33m==\u001b[0m \u001b[1;36m0\u001b[0m\u001b[1;33m:\u001b[0m\u001b[1;33m\u001b[0m\u001b[1;33m\u001b[0m\u001b[0m\n\u001b[1;32m--> 815\u001b[1;33m         \u001b[1;32mraise\u001b[0m \u001b[0mValueError\u001b[0m\u001b[1;33m(\u001b[0m\u001b[1;34m'v cannot be empty'\u001b[0m\u001b[1;33m)\u001b[0m\u001b[1;33m\u001b[0m\u001b[1;33m\u001b[0m\u001b[0m\n\u001b[0m\u001b[0;32m    816\u001b[0m     \u001b[0mmode\u001b[0m \u001b[1;33m=\u001b[0m \u001b[0m_mode_from_name\u001b[0m\u001b[1;33m(\u001b[0m\u001b[0mmode\u001b[0m\u001b[1;33m)\u001b[0m\u001b[1;33m\u001b[0m\u001b[1;33m\u001b[0m\u001b[0m\n\u001b[0;32m    817\u001b[0m     \u001b[1;32mreturn\u001b[0m \u001b[0mmultiarray\u001b[0m\u001b[1;33m.\u001b[0m\u001b[0mcorrelate\u001b[0m\u001b[1;33m(\u001b[0m\u001b[0ma\u001b[0m\u001b[1;33m,\u001b[0m \u001b[0mv\u001b[0m\u001b[1;33m[\u001b[0m\u001b[1;33m:\u001b[0m\u001b[1;33m:\u001b[0m\u001b[1;33m-\u001b[0m\u001b[1;36m1\u001b[0m\u001b[1;33m]\u001b[0m\u001b[1;33m,\u001b[0m \u001b[0mmode\u001b[0m\u001b[1;33m)\u001b[0m\u001b[1;33m\u001b[0m\u001b[1;33m\u001b[0m\u001b[0m\n",
      "\u001b[1;31mValueError\u001b[0m: v cannot be empty"
     ]
    }
   ],
   "source": [
    "window = 14\n",
    "infectious, infectious_rate = sir.compute_number_infectious(rem, window)\n",
    "\n",
    "rem = rem[:len(infectious)]\n",
    "\n",
    "population = np.array(mandate[mandate['state'] == state_abbr]['Population']) \n",
    "sus = population - infectious - rem\n",
    "#print(sus)"
   ]
  },
  {
   "cell_type": "code",
   "execution_count": null,
   "metadata": {},
   "outputs": [],
   "source": [
    "row = mask_date_to_all_states(state_abbr, \"all-states-history.csv\", 'stay_at_home_and_masks.csv', \n",
    "                             item=\"stay_at_home_start\")\n",
    "bools = time_dataframe[\"date\"] == np.array(row[\"date\"])[0]\n",
    "index_home = len(bools) - np.arange(len(bools))[bools]\n",
    "\n",
    "try:\n",
    "    row = mask_date_to_all_states(state_abbr, \"all-states-history.csv\", 'stay_at_home_and_masks.csv', \n",
    "                                 item=\"stay_at_home_end\")\n",
    "    bools = time_dataframe[\"date\"] == np.array(row[\"date\"])[0]\n",
    "    index_out = len(bools) - np.arange(len(bools))[bools]\n",
    "except:\n",
    "    print(\"no stay at home end\")\n",
    "\n",
    "try:\n",
    "    row = mask_date_to_all_states(state_abbr, \"all-states-history.csv\", 'stay_at_home_and_masks.csv', )\n",
    "    bools = time_dataframe[\"date\"] == np.array(row[\"date\"])[0]\n",
    "    index_mask = len(bools) - np.arange(len(bools))[bools]\n",
    "except:\n",
    "    index_mask = None"
   ]
  },
  {
   "cell_type": "code",
   "execution_count": null,
   "metadata": {},
   "outputs": [],
   "source": [
    "times = np.arange(len(infectious))\n",
    "plt.figure(figsize=(8, 6))\n",
    "plt.plot(times, infectious, \"*\")\n",
    "plt.vlines(index_home[0], 0, np.max(infectious), \"g\", label=\"stay at home order\")\n",
    "try:\n",
    "    plt.vlines(index_mask[0], 0, np.max(infectious), \"r\", label=\"mask mandate\")\n",
    "except:\n",
    "    print(\"no mask mandate\")\n",
    "\n",
    "try:\n",
    "    plt.vlines(index_out[0], 0, np.max(infectious), \"y\", label=\"stay at home ends\")\n",
    "except:\n",
    "    print(\"no out time\")\n",
    "plt.xlabel(\"time\")\n",
    "plt.ylabel(\"infectious\")\n",
    "plt.legend()\n",
    "plt.show()\n",
    "\n",
    "plt.figure(figsize=(8, 6))\n",
    "plt.scatter(infectious, infectious_rate, c=times)\n",
    "plt.plot(infectious[index_home[0]], infectious_rate[index_home[0]], \"r^\",  \n",
    "           markersize=20)\n",
    "plt.plot(infectious[index_out[0]], infectious_rate[index_out[0]], \"r^\",  \n",
    "           markersize=20)\n",
    "plt.ylabel(\"di/dt\")\n",
    "plt.ylabel(\"di/dt\")\n",
    "plt.xlabel(\"infectious\")\n",
    "plt.show()\n",
    "\n"
   ]
  },
  {
   "cell_type": "code",
   "execution_count": null,
   "metadata": {},
   "outputs": [],
   "source": [
    "times = np.arange(len(rem))\n",
    "sus_fit = sus / population\n",
    "inf_fit = infectious / population\n",
    "rem_fit = rem / population\n",
    "sir_fitting = sir.moving_averages_fits(times, sus_fit, inf_fit, rem_fit, window=window, \n",
    "                                     opt_options={\"method\":\"trust-constr\", \n",
    "                                                                           \"bounds\": \n",
    "                                                                            [(1e-10, 100), (0, np.inf)]})"
   ]
  },
  {
   "cell_type": "code",
   "execution_count": null,
   "metadata": {},
   "outputs": [],
   "source": [
    "print(sir_fitting)"
   ]
  },
  {
   "cell_type": "code",
   "execution_count": null,
   "metadata": {},
   "outputs": [],
   "source": [
    "plt.figure(figsize=(10, 10))\n",
    "for j in range(int(len(times) / window)):\n",
    "    start = j * window\n",
    "    stop = start + window\n",
    "    plt.plot(times[start:stop], rem_fit[start:stop], \"b*\")\n",
    "    sol = solve_ivp(sir.sir_ode, [times[start], times[stop]], \n",
    "                   [sus_fit[start], inf_fit[start], rem_fit[start]], \n",
    "                   args=sir_fitting[j, :], method=\"LSODA\", max_step=0.25)\n",
    "    plt.plot(sol.t, sol.y[2, :], \"k--\")\n",
    "    \n",
    "plt.xlabel(\"time\")\n",
    "plt.ylabel(\"removed\")\n",
    "plt.show()"
   ]
  },
  {
   "cell_type": "code",
   "execution_count": null,
   "metadata": {},
   "outputs": [],
   "source": [
    "row = mask_date_to_all_states(state_abbr, \"all-states-history.csv\", 'stay_at_home_and_masks.csv', \n",
    "                             item=\"stay_at_home_start\")\n",
    "bools = time_dataframe[\"date\"] == np.array(row[\"date\"])[0]\n",
    "index_home = len(bools) - np.arange(len(bools))[bools]\n",
    "\n",
    "try:\n",
    "    row = mask_date_to_all_states(state_abbr, \"all-states-history.csv\", 'stay_at_home_and_masks.csv', \n",
    "                                 item=\"stay_at_home_end\")\n",
    "    bools = time_dataframe[\"date\"] == np.array(row[\"date\"])[0]\n",
    "    index_out = len(bools) - np.arange(len(bools))[bools]\n",
    "except:\n",
    "    print(\"no stay at home end\")\n",
    "\n",
    "try:\n",
    "    row = mask_date_to_all_states(state_abbr, \"all-states-history.csv\", 'stay_at_home_and_masks.csv', )\n",
    "    bools = time_dataframe[\"date\"] == np.array(row[\"date\"])[0]\n",
    "    index_mask = len(bools) - np.arange(len(bools))[bools]\n",
    "except:\n",
    "    index_mask = None"
   ]
  },
  {
   "cell_type": "code",
   "execution_count": null,
   "metadata": {},
   "outputs": [],
   "source": [
    "sir_fitting_plot = np.zeros([len(times), 2])\n",
    "for j in range(int(len(times) / window)):\n",
    "    sir_fitting_plot[j * window: j * window + window, :] = sir_fitting[j, :]\n",
    "    \n",
    "plt.figure(figsize=(8,6))\n",
    "plt.plot(times, sir_fitting_plot[:, 0])\n",
    "plt.vlines(index_home[0], 0, np.max(sir_fitting[:, 0]), \"g\", label=\"stay at home order\")\n",
    "try:\n",
    "    plt.vlines(index_mask[0], 0, np.max(sir_fitting[:, 0]), \"r\", label=\"mask mandate\")\n",
    "except:\n",
    "    print(\"no mask mandate\")\n",
    "\n",
    "try:\n",
    "    plt.vlines(index_out[0], 0, np.max(sir_fitting[:, 0]), \"y\", label=\"stay at home ends\")\n",
    "except:\n",
    "    print(\"no out time\")\n",
    "plt.xlabel(\"time\")\n",
    "plt.ylabel(\"viralence\")\n",
    "plt.legend()\n",
    "plt.show()\n",
    "\n",
    "plt.figure(figsize=(8,6))\n",
    "plt.plot(times, sir_fitting_plot[:, 1])\n",
    "plt.vlines(index_home[0], 0, np.max(sir_fitting[:, 1]), \"g\", label=\"stay at home order\")\n",
    "try:\n",
    "    plt.vlines(index_mask[0], 0, np.max(sir_fitting[:, 1]), \"r\", label=\"mask mandate\")\n",
    "except:\n",
    "    print(\"no mask mandate\")\n",
    "\n",
    "try:\n",
    "    plt.vlines(index_out[0], 0, np.max(sir_fitting[:, 1]), \"y\", label=\"stay at home ends\")\n",
    "except:\n",
    "    print(\"no out time\")\n",
    "plt.xlabel(\"time\")\n",
    "plt.ylabel(\"removal rate\")\n",
    "plt.legend()\n",
    "plt.show()"
   ]
  },
  {
   "cell_type": "code",
   "execution_count": null,
   "metadata": {},
   "outputs": [],
   "source": []
  }
 ],
 "metadata": {
  "kernelspec": {
   "display_name": "Python 3",
   "language": "python",
   "name": "python3"
  },
  "language_info": {
   "codemirror_mode": {
    "name": "ipython",
    "version": 3
   },
   "file_extension": ".py",
   "mimetype": "text/x-python",
   "name": "python",
   "nbconvert_exporter": "python",
   "pygments_lexer": "ipython3",
   "version": "3.8.5"
  }
 },
 "nbformat": 4,
 "nbformat_minor": 5
}
